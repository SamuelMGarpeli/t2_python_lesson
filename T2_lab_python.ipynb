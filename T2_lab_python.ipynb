{
  "nbformat": 4,
  "nbformat_minor": 0,
  "metadata": {
    "colab": {
      "provenance": []
    },
    "kernelspec": {
      "name": "python3",
      "display_name": "Python 3"
    },
    "language_info": {
      "name": "python"
    }
  },
  "cells": [
    {
      "cell_type": "code",
      "execution_count": 2,
      "metadata": {
        "colab": {
          "base_uri": "https://localhost:8080/"
        },
        "id": "v45s0d_BwHs2",
        "outputId": "12834946-c5d5-4cd4-e5a8-d5e5c1015e26"
      },
      "outputs": [
        {
          "output_type": "stream",
          "name": "stdout",
          "text": [
            "Lista de palavras do trava linguas \n",
            "\n",
            "['a', 'aranha', 'arranha', 'a', 'rã', 'a', 'rã', 'arranha', 'a', 'aranha', 'nem', 'a', 'aranha', 'arranha', 'a', 'rã', 'nem', 'a', 'rã', 'arranha', 'a', 'aranha', 'uma', 'aranha', 'dentro', 'da', 'jarra', 'nem', 'a', 'jarra', 'arranha', 'a', 'aranha', 'nem', 'a', 'aranha', 'arranha', 'a', 'jarra']\n",
            "\n",
            "contagem de palavras do trava linguas \n",
            "\n",
            "{'a': 12, 'aranha': 7, 'arranha': 6, 'rã': 4, 'nem': 4, 'uma': 1, 'dentro': 1, 'da': 1, 'jarra': 3}\n"
          ]
        }
      ],
      "source": [
        "\n",
        "texto = ''' A aranha arranha a rã\n",
        "          A rã arranha a aranha.\n",
        "          Nem a aranha arranha a rã.\n",
        "          Nem a rã arranha a aranha.\n",
        "          Uma aranha dentro da jarra.\n",
        "          Nem a jarra arranha a aranha nem a aranha arranha a jarra.'''\n",
        "\n",
        "# Remove caracteres especiais e transforma todas as letras em minúsculas\n",
        "texto = texto.lower().replace(\".\", \"\").replace(\",\", \"\")\n",
        "\n",
        "# Separa o texto em uma lista de palavras do trava linguas\n",
        "trava_linguas = texto.split()\n",
        "\n",
        "print('Lista de palavras do trava linguas \\n')\n",
        "print(trava_linguas)\n",
        "print()\n",
        "\n",
        "# Cria um dicionário para armazenar a contagem de cada palavra\n",
        "contagem = {}\n",
        "\n",
        "#\n",
        "# CRIE O DICIONÁRIO CONTAGEM AQUI ----------------------------------------------\n",
        "#\n",
        "for trava_linguas in trava_linguas:\n",
        "    if trava_linguas in contagem:\n",
        "        contagem[trava_linguas] += 1\n",
        "    else:\n",
        "        contagem[trava_linguas] = 1\n",
        "\n",
        "#\n",
        "#-------------------------------------------------------------------------------\n",
        "#\n",
        "\n",
        "# Imprime a contagem de cada palavra\n",
        "print('contagem de palavras do trava linguas \\n')\n",
        "print(contagem)"
      ]
    },
    {
      "cell_type": "code",
      "source": [
        "#criando o wordcloud\n",
        "from wordcloud import WordCloud\n",
        "import matplotlib.pyplot as plt\n",
        "\n",
        "contagem = {'a': 12, 'aranha': 7, 'arranha': 6, 'rã': 4, 'nem': 4, 'uma': 1, 'dentro': 1, 'da': 1, 'jarra': 3}\n",
        "\n",
        "def my_wordcloud(contagem):\n",
        "  wordcloud = WordCloud(width = 700, height = 700,\n",
        "                  background_color ='white',\n",
        "                  max_words=200,\n",
        "                  min_font_size = 12).generate_from_frequencies(contagem)\n",
        "\n",
        "  plt.figure(figsize = (5, 5), facecolor = None)\n",
        "  plt.imshow(wordcloud)\n",
        "  plt.axis(\"off\")\n",
        "  plt.tight_layout(pad = 0)\n",
        "  plt.show()\n",
        "\n",
        "\n"
      ],
      "metadata": {
        "id": "sHygedNE0oWU"
      },
      "execution_count": 10,
      "outputs": []
    }
  ]
}